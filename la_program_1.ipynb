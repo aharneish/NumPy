{
 "cells": [
  {
   "cell_type": "code",
   "execution_count": 71,
   "id": "44af7cd9",
   "metadata": {},
   "outputs": [],
   "source": [
    "import numpy as np\n",
    "from numpy import pi"
   ]
  },
  {
   "cell_type": "code",
   "execution_count": 72,
   "id": "779121ae",
   "metadata": {},
   "outputs": [
    {
     "name": "stderr",
     "output_type": "stream",
     "text": [
      "C:\\Users\\Msc 1\\AppData\\Local\\Temp\\ipykernel_8500\\3580234402.py:1: VisibleDeprecationWarning: Creating an ndarray from ragged nested sequences (which is a list-or-tuple of lists-or-tuples-or ndarrays with different lengths or shapes) is deprecated. If you meant to do this, you must specify 'dtype=object' when creating the ndarray.\n",
      "  a=np.array([[1,2,3],[12,99,0],[91,71234,123,19]])\n"
     ]
    }
   ],
   "source": [
    "a=np.array([[1,2,3],[12,99,0],[91,71234,123,19]])"
   ]
  },
  {
   "cell_type": "code",
   "execution_count": 73,
   "id": "afb175bd",
   "metadata": {},
   "outputs": [
    {
     "data": {
      "text/plain": [
       "dtype('O')"
      ]
     },
     "execution_count": 73,
     "metadata": {},
     "output_type": "execute_result"
    }
   ],
   "source": [
    "a.dtype"
   ]
  },
  {
   "cell_type": "code",
   "execution_count": 74,
   "id": "1cf52456",
   "metadata": {},
   "outputs": [
    {
     "name": "stdout",
     "output_type": "stream",
     "text": [
      "[list([1, 2, 3]) list([12, 99, 0]) list([91, 71234, 123, 19])]\n"
     ]
    }
   ],
   "source": [
    "print(a)\n"
   ]
  },
  {
   "cell_type": "code",
   "execution_count": 75,
   "id": "7ed9d200",
   "metadata": {},
   "outputs": [],
   "source": [
    "b=np.array([1.2,2.3,2.0,9.1])"
   ]
  },
  {
   "cell_type": "code",
   "execution_count": 76,
   "id": "04635a93",
   "metadata": {},
   "outputs": [
    {
     "data": {
      "text/plain": [
       "dtype('float64')"
      ]
     },
     "execution_count": 76,
     "metadata": {},
     "output_type": "execute_result"
    }
   ],
   "source": [
    "b.dtype"
   ]
  },
  {
   "cell_type": "code",
   "execution_count": 77,
   "id": "ae3fbd24",
   "metadata": {},
   "outputs": [
    {
     "data": {
      "text/plain": [
       "array([1.2, 2.3, 2. , 9.1])"
      ]
     },
     "execution_count": 77,
     "metadata": {},
     "output_type": "execute_result"
    }
   ],
   "source": [
    "b"
   ]
  },
  {
   "cell_type": "code",
   "execution_count": 78,
   "id": "2df3f681",
   "metadata": {},
   "outputs": [
    {
     "data": {
      "text/plain": [
       "(24+111j)"
      ]
     },
     "execution_count": 78,
     "metadata": {},
     "output_type": "execute_result"
    }
   ],
   "source": [
    "c=complex(12,12)\n",
    "d=complex(12,99)\n",
    "e=c+d\n",
    "e"
   ]
  },
  {
   "cell_type": "code",
   "execution_count": 79,
   "id": "5d8241b6",
   "metadata": {},
   "outputs": [
    {
     "data": {
      "text/plain": [
       "array([[0., 0., 0.],\n",
       "       [0., 0., 0.],\n",
       "       [0., 0., 0.]])"
      ]
     },
     "execution_count": 79,
     "metadata": {},
     "output_type": "execute_result"
    }
   ],
   "source": [
    "np.zeros((3,3))"
   ]
  },
  {
   "cell_type": "code",
   "execution_count": 80,
   "id": "13a08c78",
   "metadata": {},
   "outputs": [],
   "source": [
    "e=np.ones((2,3,4),dtype=np.int64)"
   ]
  },
  {
   "cell_type": "code",
   "execution_count": 81,
   "id": "300af77c",
   "metadata": {},
   "outputs": [
    {
     "data": {
      "text/plain": [
       "dtype('int64')"
      ]
     },
     "execution_count": 81,
     "metadata": {},
     "output_type": "execute_result"
    }
   ],
   "source": [
    "e.dtype"
   ]
  },
  {
   "cell_type": "code",
   "execution_count": 82,
   "id": "b683c173",
   "metadata": {},
   "outputs": [
    {
     "name": "stdout",
     "output_type": "stream",
     "text": [
      "[[[1 1 1 1]\n",
      "  [1 1 1 1]\n",
      "  [1 1 1 1]]\n",
      "\n",
      " [[1 1 1 1]\n",
      "  [1 1 1 1]\n",
      "  [1 1 1 1]]]\n"
     ]
    }
   ],
   "source": [
    "print(e)"
   ]
  },
  {
   "cell_type": "code",
   "execution_count": 83,
   "id": "46d904b9",
   "metadata": {},
   "outputs": [
    {
     "data": {
      "text/plain": [
       "array([0.  , 0.25, 0.5 , 0.75, 1.  , 1.25, 1.5 , 1.75, 2.  ])"
      ]
     },
     "execution_count": 83,
     "metadata": {},
     "output_type": "execute_result"
    }
   ],
   "source": [
    "np.linspace(0,2,9)"
   ]
  },
  {
   "cell_type": "code",
   "execution_count": 84,
   "id": "c6fac7cf",
   "metadata": {},
   "outputs": [],
   "source": [
    "x=np.linspace(0,2*pi,100)"
   ]
  },
  {
   "cell_type": "code",
   "execution_count": 85,
   "id": "77cb8e24",
   "metadata": {},
   "outputs": [],
   "source": [
    "f=np.sin(x)"
   ]
  },
  {
   "cell_type": "code",
   "execution_count": 86,
   "id": "a5b5cb20",
   "metadata": {},
   "outputs": [
    {
     "data": {
      "text/plain": [
       "array([0.        , 0.52359878, 1.04719755, 1.57079633])"
      ]
     },
     "execution_count": 86,
     "metadata": {},
     "output_type": "execute_result"
    }
   ],
   "source": [
    "y=np.linspace(0,pi/2,4)\n",
    "y"
   ]
  },
  {
   "cell_type": "code",
   "execution_count": 87,
   "id": "0ae6b7ba",
   "metadata": {},
   "outputs": [
    {
     "data": {
      "text/plain": [
       "array([0.       , 0.5      , 0.8660254, 1.       ])"
      ]
     },
     "execution_count": 87,
     "metadata": {},
     "output_type": "execute_result"
    }
   ],
   "source": [
    "np.sin(y)"
   ]
  },
  {
   "cell_type": "code",
   "execution_count": 88,
   "id": "e73cd90c",
   "metadata": {},
   "outputs": [],
   "source": [
    "def trig(y):\n",
    "    print(f\"the sin values are {np.sin(y)}\")"
   ]
  },
  {
   "cell_type": "code",
   "execution_count": 89,
   "id": "5e2f897d",
   "metadata": {},
   "outputs": [
    {
     "name": "stdout",
     "output_type": "stream",
     "text": [
      "the sin values are 0.8939966636005579\n"
     ]
    }
   ],
   "source": [
    "k=int(input(\"enter the angle for sin: \"))\n",
    "trig(k)"
   ]
  },
  {
   "cell_type": "code",
   "execution_count": 90,
   "id": "578e4dd7",
   "metadata": {},
   "outputs": [],
   "source": [
    "b=np.arange(24).reshape(2,3,4)"
   ]
  },
  {
   "cell_type": "code",
   "execution_count": 91,
   "id": "fa243845",
   "metadata": {},
   "outputs": [
    {
     "data": {
      "text/plain": [
       "array([[[ 0,  1,  2,  3],\n",
       "        [ 4,  5,  6,  7],\n",
       "        [ 8,  9, 10, 11]],\n",
       "\n",
       "       [[12, 13, 14, 15],\n",
       "        [16, 17, 18, 19],\n",
       "        [20, 21, 22, 23]]])"
      ]
     },
     "execution_count": 91,
     "metadata": {},
     "output_type": "execute_result"
    }
   ],
   "source": [
    "b"
   ]
  },
  {
   "cell_type": "code",
   "execution_count": 92,
   "id": "00dee66f",
   "metadata": {},
   "outputs": [
    {
     "name": "stdout",
     "output_type": "stream",
     "text": [
      "[[[  0   1   2   3   4   5   6   7   8   9  10  11  12  13  14  15  16\n",
      "    17  18  19]\n",
      "  [ 20  21  22  23  24  25  26  27  28  29  30  31  32  33  34  35  36\n",
      "    37  38  39]\n",
      "  [ 40  41  42  43  44  45  46  47  48  49  50  51  52  53  54  55  56\n",
      "    57  58  59]\n",
      "  [ 60  61  62  63  64  65  66  67  68  69  70  71  72  73  74  75  76\n",
      "    77  78  79]\n",
      "  [ 80  81  82  83  84  85  86  87  88  89  90  91  92  93  94  95  96\n",
      "    97  98  99]\n",
      "  [100 101 102 103 104 105 106 107 108 109 110 111 112 113 114 115 116\n",
      "   117 118 119]\n",
      "  [120 121 122 123 124 125 126 127 128 129 130 131 132 133 134 135 136\n",
      "   137 138 139]\n",
      "  [140 141 142 143 144 145 146 147 148 149 150 151 152 153 154 155 156\n",
      "   157 158 159]\n",
      "  [160 161 162 163 164 165 166 167 168 169 170 171 172 173 174 175 176\n",
      "   177 178 179]\n",
      "  [180 181 182 183 184 185 186 187 188 189 190 191 192 193 194 195 196\n",
      "   197 198 199]]\n",
      "\n",
      " [[200 201 202 203 204 205 206 207 208 209 210 211 212 213 214 215 216\n",
      "   217 218 219]\n",
      "  [220 221 222 223 224 225 226 227 228 229 230 231 232 233 234 235 236\n",
      "   237 238 239]\n",
      "  [240 241 242 243 244 245 246 247 248 249 250 251 252 253 254 255 256\n",
      "   257 258 259]\n",
      "  [260 261 262 263 264 265 266 267 268 269 270 271 272 273 274 275 276\n",
      "   277 278 279]\n",
      "  [280 281 282 283 284 285 286 287 288 289 290 291 292 293 294 295 296\n",
      "   297 298 299]\n",
      "  [300 301 302 303 304 305 306 307 308 309 310 311 312 313 314 315 316\n",
      "   317 318 319]\n",
      "  [320 321 322 323 324 325 326 327 328 329 330 331 332 333 334 335 336\n",
      "   337 338 339]\n",
      "  [340 341 342 343 344 345 346 347 348 349 350 351 352 353 354 355 356\n",
      "   357 358 359]\n",
      "  [360 361 362 363 364 365 366 367 368 369 370 371 372 373 374 375 376\n",
      "   377 378 379]\n",
      "  [380 381 382 383 384 385 386 387 388 389 390 391 392 393 394 395 396\n",
      "   397 398 399]]\n",
      "\n",
      " [[400 401 402 403 404 405 406 407 408 409 410 411 412 413 414 415 416\n",
      "   417 418 419]\n",
      "  [420 421 422 423 424 425 426 427 428 429 430 431 432 433 434 435 436\n",
      "   437 438 439]\n",
      "  [440 441 442 443 444 445 446 447 448 449 450 451 452 453 454 455 456\n",
      "   457 458 459]\n",
      "  [460 461 462 463 464 465 466 467 468 469 470 471 472 473 474 475 476\n",
      "   477 478 479]\n",
      "  [480 481 482 483 484 485 486 487 488 489 490 491 492 493 494 495 496\n",
      "   497 498 499]\n",
      "  [500 501 502 503 504 505 506 507 508 509 510 511 512 513 514 515 516\n",
      "   517 518 519]\n",
      "  [520 521 522 523 524 525 526 527 528 529 530 531 532 533 534 535 536\n",
      "   537 538 539]\n",
      "  [540 541 542 543 544 545 546 547 548 549 550 551 552 553 554 555 556\n",
      "   557 558 559]\n",
      "  [560 561 562 563 564 565 566 567 568 569 570 571 572 573 574 575 576\n",
      "   577 578 579]\n",
      "  [580 581 582 583 584 585 586 587 588 589 590 591 592 593 594 595 596\n",
      "   597 598 599]]\n",
      "\n",
      " [[600 601 602 603 604 605 606 607 608 609 610 611 612 613 614 615 616\n",
      "   617 618 619]\n",
      "  [620 621 622 623 624 625 626 627 628 629 630 631 632 633 634 635 636\n",
      "   637 638 639]\n",
      "  [640 641 642 643 644 645 646 647 648 649 650 651 652 653 654 655 656\n",
      "   657 658 659]\n",
      "  [660 661 662 663 664 665 666 667 668 669 670 671 672 673 674 675 676\n",
      "   677 678 679]\n",
      "  [680 681 682 683 684 685 686 687 688 689 690 691 692 693 694 695 696\n",
      "   697 698 699]\n",
      "  [700 701 702 703 704 705 706 707 708 709 710 711 712 713 714 715 716\n",
      "   717 718 719]\n",
      "  [720 721 722 723 724 725 726 727 728 729 730 731 732 733 734 735 736\n",
      "   737 738 739]\n",
      "  [740 741 742 743 744 745 746 747 748 749 750 751 752 753 754 755 756\n",
      "   757 758 759]\n",
      "  [760 761 762 763 764 765 766 767 768 769 770 771 772 773 774 775 776\n",
      "   777 778 779]\n",
      "  [780 781 782 783 784 785 786 787 788 789 790 791 792 793 794 795 796\n",
      "   797 798 799]]\n",
      "\n",
      " [[800 801 802 803 804 805 806 807 808 809 810 811 812 813 814 815 816\n",
      "   817 818 819]\n",
      "  [820 821 822 823 824 825 826 827 828 829 830 831 832 833 834 835 836\n",
      "   837 838 839]\n",
      "  [840 841 842 843 844 845 846 847 848 849 850 851 852 853 854 855 856\n",
      "   857 858 859]\n",
      "  [860 861 862 863 864 865 866 867 868 869 870 871 872 873 874 875 876\n",
      "   877 878 879]\n",
      "  [880 881 882 883 884 885 886 887 888 889 890 891 892 893 894 895 896\n",
      "   897 898 899]\n",
      "  [900 901 902 903 904 905 906 907 908 909 910 911 912 913 914 915 916\n",
      "   917 918 919]\n",
      "  [920 921 922 923 924 925 926 927 928 929 930 931 932 933 934 935 936\n",
      "   937 938 939]\n",
      "  [940 941 942 943 944 945 946 947 948 949 950 951 952 953 954 955 956\n",
      "   957 958 959]\n",
      "  [960 961 962 963 964 965 966 967 968 969 970 971 972 973 974 975 976\n",
      "   977 978 979]\n",
      "  [980 981 982 983 984 985 986 987 988 989 990 991 992 993 994 995 996\n",
      "   997 998 999]]]\n"
     ]
    }
   ],
   "source": [
    "print(np.arange(1000).reshape(5,10,20))"
   ]
  },
  {
   "cell_type": "markdown",
   "id": "adc8237d",
   "metadata": {},
   "source": [
    "import sys\n",
    "np.set_printoptions(threshold=sys.maximize)"
   ]
  },
  {
   "cell_type": "code",
   "execution_count": 93,
   "id": "b6bb91b7",
   "metadata": {},
   "outputs": [
    {
     "data": {
      "text/plain": [
       "array([[ 0,  1,  2,  3],\n",
       "       [ 4,  5,  6,  7],\n",
       "       [ 8,  9, 10, 11]])"
      ]
     },
     "execution_count": 93,
     "metadata": {},
     "output_type": "execute_result"
    }
   ],
   "source": [
    "b=np.arange(12).reshape(3,4)\n",
    "b\n"
   ]
  },
  {
   "cell_type": "code",
   "execution_count": 94,
   "id": "aa357521",
   "metadata": {},
   "outputs": [
    {
     "data": {
      "text/plain": [
       "array([ 6, 22, 38])"
      ]
     },
     "execution_count": 94,
     "metadata": {},
     "output_type": "execute_result"
    }
   ],
   "source": [
    "b.sum(axis=1)"
   ]
  },
  {
   "cell_type": "code",
   "execution_count": null,
   "id": "fa77d25d",
   "metadata": {},
   "outputs": [],
   "source": []
  },
  {
   "cell_type": "code",
   "execution_count": null,
   "id": "9964df4f",
   "metadata": {},
   "outputs": [],
   "source": []
  },
  {
   "cell_type": "code",
   "execution_count": null,
   "id": "1c46caad",
   "metadata": {},
   "outputs": [],
   "source": []
  },
  {
   "cell_type": "code",
   "execution_count": null,
   "id": "ef927d93",
   "metadata": {},
   "outputs": [],
   "source": []
  },
  {
   "cell_type": "code",
   "execution_count": null,
   "id": "9538e1a2",
   "metadata": {},
   "outputs": [],
   "source": []
  },
  {
   "cell_type": "code",
   "execution_count": null,
   "id": "76a64d04",
   "metadata": {},
   "outputs": [],
   "source": []
  }
 ],
 "metadata": {
  "kernelspec": {
   "display_name": "Python 3 (ipykernel)",
   "language": "python",
   "name": "python3"
  },
  "language_info": {
   "codemirror_mode": {
    "name": "ipython",
    "version": 3
   },
   "file_extension": ".py",
   "mimetype": "text/x-python",
   "name": "python",
   "nbconvert_exporter": "python",
   "pygments_lexer": "ipython3",
   "version": "3.9.13"
  },
  "vscode": {
   "interpreter": {
    "hash": "a351977ee7b04894121f5cde6ee8599f2048b7534d4382db8d533ca73fe19004"
   }
  }
 },
 "nbformat": 4,
 "nbformat_minor": 5
}
